{
 "cells": [
  {
   "cell_type": "markdown",
   "id": "e9f5647b",
   "metadata": {},
   "source": [
    "# Data science and ecosystem"
   ]
  },
  {
   "cell_type": "markdown",
   "id": "345ff48e",
   "metadata": {},
   "source": [
    "In this notebook, Data Science Tools and Ecosystem are summarized."
   ]
  },
  {
   "cell_type": "markdown",
   "id": "53a850b7",
   "metadata": {},
   "source": [
    "**Objectives:**\n",
    "* How to create markdown cells\n",
    "* Lists and tables\n",
    "* simple aritmetic expressions"
   ]
  },
  {
   "cell_type": "markdown",
   "id": "c8865523",
   "metadata": {},
   "source": [
    "Some of the popular languages that Data Scientists use are:\n",
    "1. Python\n",
    "1. R\n",
    "1. Julia\n",
    "1. C++"
   ]
  },
  {
   "cell_type": "markdown",
   "id": "e8df57a5",
   "metadata": {},
   "source": [
    "Some of the commonly used libraries used by Data Scientists include:\n",
    "1. numpy\n",
    "1. pandas\n",
    "1. ggplot\n",
    "1. matplotlib"
   ]
  },
  {
   "cell_type": "markdown",
   "id": "14311081",
   "metadata": {},
   "source": [
    "|Data Science Tools |\n",
    "|:-:|\n",
    "|Jupiter Notebook|\n",
    "|Zeppelin Notebook|\n",
    "|Rstudio|\n"
   ]
  },
  {
   "cell_type": "markdown",
   "id": "439fcefb",
   "metadata": {},
   "source": [
    "### Below are a few examples of evaluating arithmetic expressions in Python."
   ]
  },
  {
   "cell_type": "code",
   "execution_count": 12,
   "id": "3f9a66dd",
   "metadata": {},
   "outputs": [
    {
     "data": {
      "text/plain": [
       "17"
      ]
     },
     "execution_count": 12,
     "metadata": {},
     "output_type": "execute_result"
    }
   ],
   "source": [
    "# This a simple arithmetic expression to mutiply then add integers\n",
    "(3*4)+5"
   ]
  },
  {
   "cell_type": "code",
   "execution_count": 19,
   "id": "fd2e9693",
   "metadata": {},
   "outputs": [
    {
     "name": "stdout",
     "output_type": "stream",
     "text": [
      "200 minutes is equal to 3.3333333333333335 hours\n"
     ]
    }
   ],
   "source": [
    "#This will convert 200 minutes to hours by diving by 60\n",
    "minuts = 200\n",
    "onehour = 60\n",
    "results = minuts/onehour\n",
    "results_string= \"{} minutes is equal to {} hours\".format(minuts, results)\n",
    "print(results_string)"
   ]
  },
  {
   "cell_type": "markdown",
   "id": "a0f61b8b",
   "metadata": {},
   "source": [
    "## Author:\n",
    "Rocco Haiba."
   ]
  }
 ],
 "metadata": {
  "kernelspec": {
   "display_name": "Python 3 (ipykernel)",
   "language": "python",
   "name": "python3"
  },
  "language_info": {
   "codemirror_mode": {
    "name": "ipython",
    "version": 3
   },
   "file_extension": ".py",
   "mimetype": "text/x-python",
   "name": "python",
   "nbconvert_exporter": "python",
   "pygments_lexer": "ipython3",
   "version": "3.10.9"
  }
 },
 "nbformat": 4,
 "nbformat_minor": 5
}
